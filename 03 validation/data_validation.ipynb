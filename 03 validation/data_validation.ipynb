{
  "nbformat": 4,
  "nbformat_minor": 0,
  "metadata": {
    "colab": {
      "provenance": []
    },
    "kernelspec": {
      "name": "python3",
      "display_name": "Python 3"
    },
    "language_info": {
      "name": "python"
    }
  },
  "cells": [
    {
      "cell_type": "markdown",
      "source": [
        "Existence Assertions"
      ],
      "metadata": {
        "id": "QQkYjQdioS1M"
      }
    },
    {
      "cell_type": "code",
      "source": [
        "import pandas as pd\n",
        "\n",
        "# Path to the CSV file\n",
        "csv_file_path = 'Hwy26Crashes2019_S23.csv'\n",
        "\n",
        "# Read the CSV file into a DataFrame\n",
        "df = pd.read_csv(csv_file_path)\n",
        "\n",
        "# Assertion: Check if the Crash ID column has non-null values for each row\n",
        "assert df['Crash ID'].notnull().all(), \"Not every crash has a Crash ID specified\"\n",
        "print('All assertions passed successfully!')\n"
      ],
      "metadata": {
        "colab": {
          "base_uri": "https://localhost:8080/"
        },
        "id": "inMBZtsmGByv",
        "outputId": "dc2a10ba-741b-46f8-dca7-394cecce98c3"
      },
      "execution_count": null,
      "outputs": [
        {
          "output_type": "stream",
          "name": "stdout",
          "text": [
            "All assertions passed successfully!\n"
          ]
        }
      ]
    },
    {
      "cell_type": "markdown",
      "source": [
        "Limit Assertions"
      ],
      "metadata": {
        "id": "PjjlrNGIoZmd"
      }
    },
    {
      "cell_type": "code",
      "source": [
        "import pandas as pd\n",
        "\n",
        "# Path to the CSV file\n",
        "csv_file_path = 'Hwy26Crashes2019_S23.csv'\n",
        "\n",
        "# Read the CSV file into a DataFrame\n",
        "df = pd.read_csv(csv_file_path)\n",
        "\n",
        "# Assertion: Check if the 'Crash Month' column contains valid month numbers\n",
        "assert pd.to_datetime(df['Crash Month'], format='%m', errors='coerce').notnull().all(), \"Not every crash has a valid month number\"\n"
      ],
      "metadata": {
        "colab": {
          "base_uri": "https://localhost:8080/",
          "height": 176
        },
        "id": "HB7nNoaHGpdP",
        "outputId": "eb2464d4-e891-4fbc-c9bf-c6c0589c30de"
      },
      "execution_count": null,
      "outputs": [
        {
          "output_type": "error",
          "ename": "AssertionError",
          "evalue": "Not every crash has a valid month number",
          "traceback": [
            "\u001b[0;31m---------------------------------------------------------------------------\u001b[0m",
            "\u001b[0;31mAssertionError\u001b[0m                            Traceback (most recent call last)",
            "\u001b[0;32m<ipython-input-43-5fcac2db12c0>\u001b[0m in \u001b[0;36m<cell line: 10>\u001b[0;34m()\u001b[0m\n\u001b[1;32m      8\u001b[0m \u001b[0;34m\u001b[0m\u001b[0m\n\u001b[1;32m      9\u001b[0m \u001b[0;31m# Assertion: Check if the 'Crash Month' column contains valid month numbers\u001b[0m\u001b[0;34m\u001b[0m\u001b[0;34m\u001b[0m\u001b[0m\n\u001b[0;32m---> 10\u001b[0;31m \u001b[0;32massert\u001b[0m \u001b[0mpd\u001b[0m\u001b[0;34m.\u001b[0m\u001b[0mto_datetime\u001b[0m\u001b[0;34m(\u001b[0m\u001b[0mdf\u001b[0m\u001b[0;34m[\u001b[0m\u001b[0;34m'Crash Month'\u001b[0m\u001b[0;34m]\u001b[0m\u001b[0;34m,\u001b[0m \u001b[0mformat\u001b[0m\u001b[0;34m=\u001b[0m\u001b[0;34m'%m'\u001b[0m\u001b[0;34m,\u001b[0m \u001b[0merrors\u001b[0m\u001b[0;34m=\u001b[0m\u001b[0;34m'coerce'\u001b[0m\u001b[0;34m)\u001b[0m\u001b[0;34m.\u001b[0m\u001b[0mnotnull\u001b[0m\u001b[0;34m(\u001b[0m\u001b[0;34m)\u001b[0m\u001b[0;34m.\u001b[0m\u001b[0mall\u001b[0m\u001b[0;34m(\u001b[0m\u001b[0;34m)\u001b[0m\u001b[0;34m,\u001b[0m \u001b[0;34m\"Not every crash has a valid month number\"\u001b[0m\u001b[0;34m\u001b[0m\u001b[0;34m\u001b[0m\u001b[0m\n\u001b[0m",
            "\u001b[0;31mAssertionError\u001b[0m: Not every crash has a valid month number"
          ]
        }
      ]
    },
    {
      "cell_type": "markdown",
      "source": [
        "Resolving Limit Violation"
      ],
      "metadata": {
        "id": "ZDtB0cbWTG03"
      }
    },
    {
      "cell_type": "code",
      "source": [
        "import pandas as pd\n",
        "\n",
        "# Path to the CSV file\n",
        "csv_file_path = 'Crashes_1.csv'\n",
        "\n",
        "# Read the CSV file into a DataFrame\n",
        "df = pd.read_csv(csv_file_path)\n",
        "\n",
        "# Filter the DataFrame for record type 1\n",
        "df_filtered = df[df['Record Type'] == 1]\n",
        "\n",
        "# Assertion: Check if the 'Crash Month' column contains valid month numbers for record type 1\n",
        "assert pd.to_datetime(df_filtered['Crash Month'], format='%m', errors='coerce').notnull().all(), \"Not every crash with record type 1 has a valid month number\"\n",
        "print('All assertions passed successfully!')\n"
      ],
      "metadata": {
        "colab": {
          "base_uri": "https://localhost:8080/"
        },
        "id": "ToBZL3UdTJUO",
        "outputId": "10a2db3e-a6dc-4e05-b876-1eebfdec4bc8"
      },
      "execution_count": null,
      "outputs": [
        {
          "output_type": "stream",
          "name": "stdout",
          "text": [
            "All assertions passed successfully!\n"
          ]
        }
      ]
    },
    {
      "cell_type": "markdown",
      "source": [
        "Intra Record Assertions"
      ],
      "metadata": {
        "id": "LJeYR3_brbI4"
      }
    },
    {
      "cell_type": "code",
      "source": [
        "import pandas as pd\n",
        "\n",
        "# Path to the CSV file\n",
        "csv_file_path = 'Hwy26Crashes2019_S23.csv'\n",
        "\n",
        "# Read the CSV file into a DataFrame\n",
        "df = pd.read_csv(csv_file_path)\n",
        "\n",
        "# Assertion: Check if for each row where 'City Code' is specified, 'Urban Area Code' is also specified\n",
        "assert df[df['City Section ID'].notnull()]['Urban Area Code'].notnull().all(), \"Not every crash with a City Code has an associated Urban Area Code\"\n",
        "print('All assertions passed successfully!')\n"
      ],
      "metadata": {
        "colab": {
          "base_uri": "https://localhost:8080/"
        },
        "id": "VGEw_hHSG1Ku",
        "outputId": "68455200-7f14-4723-c3f7-9d55e0a9a992"
      },
      "execution_count": null,
      "outputs": [
        {
          "output_type": "stream",
          "name": "stdout",
          "text": [
            "All assertions passed successfully!\n"
          ]
        }
      ]
    },
    {
      "cell_type": "code",
      "source": [
        "import pandas as pd\n",
        "\n",
        "# Path to the CSV file\n",
        "csv_file_path = 'Hwy26Crashes2019_S23.csv'\n",
        "\n",
        "# Read the CSV file into a DataFrame\n",
        "df = pd.read_csv(csv_file_path)\n",
        "\n",
        "# Convert 'Number of Turning Legs' to string\n",
        "df['Number of Turning Legs'] = df['Number of Turning Legs'].astype(str)\n",
        "\n",
        "# Assertion: Check if 'Number of Turning Legs' is numeric when 'Road Character' is 'Intersection'\n",
        "is_intersection = df['Road Character'] == 'Intersection'\n",
        "has_non_numeric_turning_legs = df.loc[is_intersection, 'Number of Turning Legs'].str.replace('.', '', 1).str.isnumeric().any()\n",
        "assert not has_non_numeric_turning_legs, \"Number of turning legs must be numeric when Road Character is Intersection\"\n",
        "print('All assertions passed successfully!')\n"
      ],
      "metadata": {
        "colab": {
          "base_uri": "https://localhost:8080/"
        },
        "id": "bUp8rzNVHCWh",
        "outputId": "809a5dcd-c15a-4687-f683-bb4d7f0bccc2"
      },
      "execution_count": null,
      "outputs": [
        {
          "output_type": "stream",
          "name": "stdout",
          "text": [
            "All assertions passed successfully!\n"
          ]
        }
      ]
    },
    {
      "cell_type": "markdown",
      "source": [
        "Inter-Record Assertions"
      ],
      "metadata": {
        "id": "9GHMEQHj0ZGD"
      }
    },
    {
      "cell_type": "code",
      "source": [
        "import pandas as pd\n",
        "\n",
        "# Path to the CSV file\n",
        "csv_file_path = 'Hwy26Crashes2019_S23.csv'\n",
        "\n",
        "# Read the CSV file into a DataFrame\n",
        "df = pd.read_csv(csv_file_path)\n",
        "\n",
        "# Assertion: If 'Participant Error 1 Code', 'Participant Error 2 Code', or 'Participant Error 3 Code' is not 'None',\n",
        "# then 'Participant Cause 1 Code', 'Participant Cause 2 Code', or 'Participant Cause 3 Code' should not be 'None' for each participant involved in a crash\n",
        "error_columns = ['Participant Error 1 Code', 'Participant Error 2 Code', 'Participant Error 3 Code']\n",
        "cause_columns = ['Participant Cause 1 Code', 'Participant Cause 2 Code', 'Participant Cause 3 Code']\n",
        "\n",
        "error_not_none = df[error_columns].notnull().any(axis=1)\n",
        "cause_none = df[cause_columns].isnull().any(axis=1)\n",
        "\n",
        "assert not ((error_not_none) & (cause_none)).any(), \"If any participant error code is not 'None', the corresponding cause code should not be 'None'\"\n"
      ],
      "metadata": {
        "colab": {
          "base_uri": "https://localhost:8080/",
          "height": 193
        },
        "id": "mZAe-FjFZ-Ja",
        "outputId": "e8ac480d-78b6-40eb-ef8d-d5da9d87c8b9"
      },
      "execution_count": null,
      "outputs": [
        {
          "output_type": "error",
          "ename": "AssertionError",
          "evalue": "If any participant error code is not 'None', the corresponding cause code should not be 'None'",
          "traceback": [
            "\u001b[0;31m---------------------------------------------------------------------------\u001b[0m",
            "\u001b[0;31mAssertionError\u001b[0m                            Traceback (most recent call last)",
            "\u001b[0;32m<ipython-input-59-3595d73e80de>\u001b[0m in \u001b[0;36m<cell line: 17>\u001b[0;34m()\u001b[0m\n\u001b[1;32m     15\u001b[0m \u001b[0mcause_none\u001b[0m \u001b[0;34m=\u001b[0m \u001b[0mdf\u001b[0m\u001b[0;34m[\u001b[0m\u001b[0mcause_columns\u001b[0m\u001b[0;34m]\u001b[0m\u001b[0;34m.\u001b[0m\u001b[0misnull\u001b[0m\u001b[0;34m(\u001b[0m\u001b[0;34m)\u001b[0m\u001b[0;34m.\u001b[0m\u001b[0many\u001b[0m\u001b[0;34m(\u001b[0m\u001b[0maxis\u001b[0m\u001b[0;34m=\u001b[0m\u001b[0;36m1\u001b[0m\u001b[0;34m)\u001b[0m\u001b[0;34m\u001b[0m\u001b[0;34m\u001b[0m\u001b[0m\n\u001b[1;32m     16\u001b[0m \u001b[0;34m\u001b[0m\u001b[0m\n\u001b[0;32m---> 17\u001b[0;31m \u001b[0;32massert\u001b[0m \u001b[0;32mnot\u001b[0m \u001b[0;34m(\u001b[0m\u001b[0;34m(\u001b[0m\u001b[0merror_not_none\u001b[0m\u001b[0;34m)\u001b[0m \u001b[0;34m&\u001b[0m \u001b[0;34m(\u001b[0m\u001b[0mcause_none\u001b[0m\u001b[0;34m)\u001b[0m\u001b[0;34m)\u001b[0m\u001b[0;34m.\u001b[0m\u001b[0many\u001b[0m\u001b[0;34m(\u001b[0m\u001b[0;34m)\u001b[0m\u001b[0;34m,\u001b[0m \u001b[0;34m\"If any participant error code is not 'None', the corresponding cause code should not be 'None'\"\u001b[0m\u001b[0;34m\u001b[0m\u001b[0;34m\u001b[0m\u001b[0m\n\u001b[0m",
            "\u001b[0;31mAssertionError\u001b[0m: If any participant error code is not 'None', the corresponding cause code should not be 'None'"
          ]
        }
      ]
    },
    {
      "cell_type": "markdown",
      "source": [
        "Resolving the above violated assertion"
      ],
      "metadata": {
        "id": "OrIzElJfbt9g"
      }
    },
    {
      "cell_type": "code",
      "source": [
        "import pandas as pd\n",
        "\n",
        "# Path to the CSV file\n",
        "csv_file_path = 'Hwy26Crashes2019_S23.csv'\n",
        "\n",
        "# Read the CSV file into a DataFrame\n",
        "df = pd.read_csv(csv_file_path)\n",
        "\n",
        "# Assertion: If 'Participant Error 1 Code', 'Participant Error 2 Code', or 'Participant Error 3 Code' is not 'None',\n",
        "# then 'Participant Cause 1 Code', 'Participant Cause 2 Code', or 'Participant Cause 3 Code' should not be 'None' for each participant involved in a crash\n",
        "for index, row in df.iterrows():\n",
        "    for i in range(1, 4):\n",
        "        if row[f'Participant Error {i} Code'] is not None and row[f'Participant Cause {i} Code'] is None:\n",
        "            raise AssertionError(f\"Participant Error {i} Code is not 'None', but Participant Cause {i} Code is 'None' in row {index}\")\n",
        "print('All assertions passed successfully!')\n"
      ],
      "metadata": {
        "colab": {
          "base_uri": "https://localhost:8080/"
        },
        "id": "Wmd78sdGbf_4",
        "outputId": "b777aa00-d584-4d97-c4fb-82e2321feb2a"
      },
      "execution_count": null,
      "outputs": [
        {
          "output_type": "stream",
          "name": "stdout",
          "text": [
            "All assertions passed successfully!\n"
          ]
        }
      ]
    },
    {
      "cell_type": "code",
      "source": [
        "import pandas as pd\n",
        "\n",
        "# Path to the CSV file\n",
        "csv_file_path = 'Hwy26Crashes2019_S23.csv'\n",
        "\n",
        "# Read the CSV file into a DataFrame\n",
        "df = pd.read_csv(csv_file_path)\n",
        "\n",
        "# Assertion: If 'Vehicle Hit & Run Flag' is 1 for any vehicle involved in a crash, then 'Participant Hit & Run Flag' should be 1 for at least one participant involved in the crash\n",
        "vehicle_hit_run = df['Vehicle Hit & Run Flag'] == 1\n",
        "participant_hit_run = df['Participant Hit & Run Flag'] == 1\n",
        "assert ((vehicle_hit_run) & ~(df.groupby('Crash ID')['Participant Hit & Run Flag'].transform('max') == 1)).sum() == 0, f\"Participant Hit & Run Flag should be 1 for at least one participant if Vehicle Hit & Run Flag is 1 in {csv_file_path}\"\n"
      ],
      "metadata": {
        "colab": {
          "base_uri": "https://localhost:8080/",
          "height": 193
        },
        "id": "BCWIaqoGEKns",
        "outputId": "8a98112e-94b5-4308-9d56-aaf5a6e98f11"
      },
      "execution_count": null,
      "outputs": [
        {
          "output_type": "error",
          "ename": "AssertionError",
          "evalue": "Participant Hit & Run Flag should be 1 for at least one participant if Vehicle Hit & Run Flag is 1 in Hwy26Crashes2019_S23.csv",
          "traceback": [
            "\u001b[0;31m---------------------------------------------------------------------------\u001b[0m",
            "\u001b[0;31mAssertionError\u001b[0m                            Traceback (most recent call last)",
            "\u001b[0;32m<ipython-input-47-56ff0b821750>\u001b[0m in \u001b[0;36m<cell line: 12>\u001b[0;34m()\u001b[0m\n\u001b[1;32m     10\u001b[0m \u001b[0mvehicle_hit_run\u001b[0m \u001b[0;34m=\u001b[0m \u001b[0mdf\u001b[0m\u001b[0;34m[\u001b[0m\u001b[0;34m'Vehicle Hit & Run Flag'\u001b[0m\u001b[0;34m]\u001b[0m \u001b[0;34m==\u001b[0m \u001b[0;36m1\u001b[0m\u001b[0;34m\u001b[0m\u001b[0;34m\u001b[0m\u001b[0m\n\u001b[1;32m     11\u001b[0m \u001b[0mparticipant_hit_run\u001b[0m \u001b[0;34m=\u001b[0m \u001b[0mdf\u001b[0m\u001b[0;34m[\u001b[0m\u001b[0;34m'Participant Hit & Run Flag'\u001b[0m\u001b[0;34m]\u001b[0m \u001b[0;34m==\u001b[0m \u001b[0;36m1\u001b[0m\u001b[0;34m\u001b[0m\u001b[0;34m\u001b[0m\u001b[0m\n\u001b[0;32m---> 12\u001b[0;31m \u001b[0;32massert\u001b[0m \u001b[0;34m(\u001b[0m\u001b[0;34m(\u001b[0m\u001b[0mvehicle_hit_run\u001b[0m\u001b[0;34m)\u001b[0m \u001b[0;34m&\u001b[0m \u001b[0;34m~\u001b[0m\u001b[0;34m(\u001b[0m\u001b[0mdf\u001b[0m\u001b[0;34m.\u001b[0m\u001b[0mgroupby\u001b[0m\u001b[0;34m(\u001b[0m\u001b[0;34m'Crash ID'\u001b[0m\u001b[0;34m)\u001b[0m\u001b[0;34m[\u001b[0m\u001b[0;34m'Participant Hit & Run Flag'\u001b[0m\u001b[0;34m]\u001b[0m\u001b[0;34m.\u001b[0m\u001b[0mtransform\u001b[0m\u001b[0;34m(\u001b[0m\u001b[0;34m'max'\u001b[0m\u001b[0;34m)\u001b[0m \u001b[0;34m==\u001b[0m \u001b[0;36m1\u001b[0m\u001b[0;34m)\u001b[0m\u001b[0;34m)\u001b[0m\u001b[0;34m.\u001b[0m\u001b[0msum\u001b[0m\u001b[0;34m(\u001b[0m\u001b[0;34m)\u001b[0m \u001b[0;34m==\u001b[0m \u001b[0;36m0\u001b[0m\u001b[0;34m,\u001b[0m \u001b[0;34mf\"Participant Hit & Run Flag should be 1 for at least one participant if Vehicle Hit & Run Flag is 1 in {csv_file_path}\"\u001b[0m\u001b[0;34m\u001b[0m\u001b[0;34m\u001b[0m\u001b[0m\n\u001b[0m",
            "\u001b[0;31mAssertionError\u001b[0m: Participant Hit & Run Flag should be 1 for at least one participant if Vehicle Hit & Run Flag is 1 in Hwy26Crashes2019_S23.csv"
          ]
        }
      ]
    },
    {
      "cell_type": "markdown",
      "source": [
        "Resolving above violation"
      ],
      "metadata": {
        "id": "ZgLgz7nbfDS6"
      }
    },
    {
      "cell_type": "code",
      "source": [
        "import pandas as pd\n",
        "\n",
        "# Path to the CSV file\n",
        "csv_file_path = 'Hwy26Crashes2019_S23.csv'\n",
        "\n",
        "# Read the CSV file into a DataFrame\n",
        "df = pd.read_csv(csv_file_path)\n",
        "\n",
        "# Assertion: If 'Vehicle Hit & Run Flag' is 1 for any vehicle involved in a crash, then 'Participant Hit & Run Flag' should be 1 for at least one participant involved in the crash\n",
        "vehicle_hit_run = df['Vehicle Hit & Run Flag'] == 1\n",
        "participant_hit_run = df['Participant Hit & Run Flag'] == 1\n",
        "assert ((vehicle_hit_run) & ~(df.groupby('Crash ID')['Participant Hit & Run Flag'].transform('max') == 1)).sum() == 0, f\"Participant Hit & Run Flag should be 1 for at least one participant if Vehicle Hit & Run Flag is 1 in {csv_file_path}\"\n"
      ],
      "metadata": {
        "id": "hc_qZy6unbEZ"
      },
      "execution_count": null,
      "outputs": []
    },
    {
      "cell_type": "markdown",
      "source": [
        "Summary Assertions\n"
      ],
      "metadata": {
        "id": "dLWJ9zRG2Fg0"
      }
    },
    {
      "cell_type": "code",
      "source": [
        "import pandas as pd\n",
        "\n",
        "# Path to the CSV file\n",
        "csv_file_path = 'Hwy26Crashes2019_S23.csv'\n",
        "\n",
        "# Read the CSV file into a DataFrame\n",
        "df = pd.read_csv(csv_file_path)\n",
        "\n",
        "# Assertion: Every crash occurs on Highway Number 26\n",
        "assert (df['Highway Number'] == '26').all(), f\"Not every crash occurs on Highway Number 26 in {csv_file_path}\""
      ],
      "metadata": {
        "colab": {
          "base_uri": "https://localhost:8080/",
          "height": 176
        },
        "id": "u0nGSXsT2IWj",
        "outputId": "39698e66-4f5d-40e6-9031-6eb5b773e3ed"
      },
      "execution_count": null,
      "outputs": [
        {
          "output_type": "error",
          "ename": "AssertionError",
          "evalue": "Not every crash occurs on Highway Number 26 in Hwy26Crashes2019_S23.csv",
          "traceback": [
            "\u001b[0;31m---------------------------------------------------------------------------\u001b[0m",
            "\u001b[0;31mAssertionError\u001b[0m                            Traceback (most recent call last)",
            "\u001b[0;32m<ipython-input-70-3354b0e9c80e>\u001b[0m in \u001b[0;36m<cell line: 10>\u001b[0;34m()\u001b[0m\n\u001b[1;32m      8\u001b[0m \u001b[0;34m\u001b[0m\u001b[0m\n\u001b[1;32m      9\u001b[0m \u001b[0;31m# Assertion: Every crash occurs on Highway Number 26\u001b[0m\u001b[0;34m\u001b[0m\u001b[0;34m\u001b[0m\u001b[0m\n\u001b[0;32m---> 10\u001b[0;31m \u001b[0;32massert\u001b[0m \u001b[0;34m(\u001b[0m\u001b[0mdf\u001b[0m\u001b[0;34m[\u001b[0m\u001b[0;34m'Highway Number'\u001b[0m\u001b[0;34m]\u001b[0m \u001b[0;34m==\u001b[0m \u001b[0;34m'26'\u001b[0m\u001b[0;34m)\u001b[0m\u001b[0;34m.\u001b[0m\u001b[0mall\u001b[0m\u001b[0;34m(\u001b[0m\u001b[0;34m)\u001b[0m\u001b[0;34m,\u001b[0m \u001b[0;34mf\"Not every crash occurs on Highway Number 26 in {csv_file_path}\"\u001b[0m\u001b[0;34m\u001b[0m\u001b[0;34m\u001b[0m\u001b[0m\n\u001b[0m",
            "\u001b[0;31mAssertionError\u001b[0m: Not every crash occurs on Highway Number 26 in Hwy26Crashes2019_S23.csv"
          ]
        }
      ]
    },
    {
      "cell_type": "markdown",
      "source": [
        "Resolving above violation"
      ],
      "metadata": {
        "id": "OxwSIwnuomF1"
      }
    },
    {
      "cell_type": "code",
      "source": [
        "import pandas as pd\n",
        "\n",
        "# Path to the CSV file\n",
        "csv_file_path = 'Hwy26Crashes2019_S23.csv'\n",
        "\n",
        "# Read the CSV file into a DataFrame\n",
        "df = pd.read_csv(csv_file_path)\n",
        "\n",
        "# Assertion: Every non-null crash occurs on Highway Number 26\n",
        "assert (df['Highway Number'].fillna('') == '26').all(), f\"Not every non-null crash occurs on Highway Number 26 in {csv_file_path}\"\n",
        "print(\"All assertions passsed successfully\")\n"
      ],
      "metadata": {
        "colab": {
          "base_uri": "https://localhost:8080/"
        },
        "id": "bEvwjAWNoNmI",
        "outputId": "e10ad259-46a2-4f46-a69c-939c41f20ca6"
      },
      "execution_count": null,
      "outputs": [
        {
          "output_type": "stream",
          "name": "stdout",
          "text": [
            "All assertions passsed successfully\n"
          ]
        }
      ]
    },
    {
      "cell_type": "code",
      "source": [
        "import pandas as pd\n",
        "\n",
        "# Path to the CSV file\n",
        "csv_file_path = 'Hwy26Crashes2019_S23.csv'\n",
        "\n",
        "# Read the CSV file into a DataFrame\n",
        "df = pd.read_csv(csv_file_path)\n",
        "\n",
        "# Assertion: All crashes involved have a speed flag of 'US' or 'Oregon'\n",
        "assert df['Speed Involved Flag'].isin(['US', 'OR']).all(), f\"Not all crashes involved have a speed flag of 'US' or 'Oregon' in {csv_file_path}\"\n"
      ],
      "metadata": {
        "colab": {
          "base_uri": "https://localhost:8080/",
          "height": 193
        },
        "id": "RT5tRh574KMv",
        "outputId": "7c75f1bf-b4ec-4f09-dcda-18c145355806"
      },
      "execution_count": null,
      "outputs": [
        {
          "output_type": "error",
          "ename": "AssertionError",
          "evalue": "Not all crashes involved have a speed flag of 'US' or 'Oregon' in Hwy26Crashes2019_S23.csv",
          "traceback": [
            "\u001b[0;31m---------------------------------------------------------------------------\u001b[0m",
            "\u001b[0;31mAssertionError\u001b[0m                            Traceback (most recent call last)",
            "\u001b[0;32m<ipython-input-67-8868150bffa4>\u001b[0m in \u001b[0;36m<cell line: 10>\u001b[0;34m()\u001b[0m\n\u001b[1;32m      8\u001b[0m \u001b[0;34m\u001b[0m\u001b[0m\n\u001b[1;32m      9\u001b[0m \u001b[0;31m# Assertion: All crashes involved have a speed flag of 'US' or 'Oregon'\u001b[0m\u001b[0;34m\u001b[0m\u001b[0;34m\u001b[0m\u001b[0m\n\u001b[0;32m---> 10\u001b[0;31m \u001b[0;32massert\u001b[0m \u001b[0mdf\u001b[0m\u001b[0;34m[\u001b[0m\u001b[0;34m'Speed Involved Flag'\u001b[0m\u001b[0;34m]\u001b[0m\u001b[0;34m.\u001b[0m\u001b[0misin\u001b[0m\u001b[0;34m(\u001b[0m\u001b[0;34m[\u001b[0m\u001b[0;34m'US'\u001b[0m\u001b[0;34m,\u001b[0m \u001b[0;34m'OR'\u001b[0m\u001b[0;34m]\u001b[0m\u001b[0;34m)\u001b[0m\u001b[0;34m.\u001b[0m\u001b[0mall\u001b[0m\u001b[0;34m(\u001b[0m\u001b[0;34m)\u001b[0m\u001b[0;34m,\u001b[0m \u001b[0;34mf\"Not all crashes involved have a speed flag of 'US' or 'Oregon' in {csv_file_path}\"\u001b[0m\u001b[0;34m\u001b[0m\u001b[0;34m\u001b[0m\u001b[0m\n\u001b[0m",
            "\u001b[0;31mAssertionError\u001b[0m: Not all crashes involved have a speed flag of 'US' or 'Oregon' in Hwy26Crashes2019_S23.csv"
          ]
        }
      ]
    },
    {
      "cell_type": "markdown",
      "source": [
        "Resolving above violation"
      ],
      "metadata": {
        "id": "aaAlpbr4nylu"
      }
    },
    {
      "cell_type": "code",
      "source": [
        "import pandas as pd\n",
        "\n",
        "# Path to the CSV file\n",
        "csv_file_path = 'Hwy26Crashes2019_S23.csv'\n",
        "\n",
        "# Read the CSV file into a DataFrame\n",
        "df = pd.read_csv(csv_file_path)\n",
        "\n",
        "# Filter out rows where 'Speed Involved Flag' is null\n",
        "df_filtered = df[df['Speed Involved Flag'].notnull()]\n",
        "\n",
        "# Assertion: All non-null crashes involved have a speed flag of 'US' or 'Oregon'\n",
        "valid_speed_flags = df_filtered['Speed Involved Flag'].isin(['US', 'OR'])\n",
        "assert valid_speed_flags.all(), f\"Not all non-null crashes involved have a speed flag of 'US' or 'Oregon' in {csv_file_path}\"\n",
        "print('All assertions passed successfully!')\n"
      ],
      "metadata": {
        "colab": {
          "base_uri": "https://localhost:8080/"
        },
        "id": "VkCa1Ujyf1yI",
        "outputId": "5268590b-7571-4c60-ee54-def28eee371d"
      },
      "execution_count": null,
      "outputs": [
        {
          "output_type": "stream",
          "name": "stdout",
          "text": [
            "All assertions passed successfully!\n"
          ]
        }
      ]
    },
    {
      "cell_type": "markdown",
      "source": [
        "Statistical Assertions"
      ],
      "metadata": {
        "id": "sTtXDpLC9aH0"
      }
    },
    {
      "cell_type": "code",
      "source": [
        "import pandas as pd\n",
        "\n",
        "# Path to the CSV file\n",
        "csv_file_path = 'Hwy26Crashes2019_S23.csv'\n",
        "\n",
        "# Read the CSV file into a DataFrame\n",
        "df = pd.read_csv(csv_file_path)\n",
        "\n",
        "# Calculate the count of alcohol-involved crashes and crashes without alcohol involvement\n",
        "alcohol_involved_count = df['Alcohol-Involved Flag'].sum()\n",
        "non_alcohol_involved_count = len(df) - alcohol_involved_count\n",
        "\n",
        "# Assertion: Alcohol-involved crashes are very less compared to crashes without alcohol involvement\n",
        "assert alcohol_involved_count < non_alcohol_involved_count, f\"Alcohol-involved crashes are not less compared to crashes without alcohol involvement in {csv_file_path}\"\n"
      ],
      "metadata": {
        "id": "xVdfzavr9Spk"
      },
      "execution_count": null,
      "outputs": []
    },
    {
      "cell_type": "code",
      "source": [
        "import pandas as pd\n",
        "\n",
        "# Path to the CSV file\n",
        "csv_file_path = 'Hwy26Crashes2019_S23.csv'\n",
        "\n",
        "# Read the CSV file into a DataFrame\n",
        "df = pd.read_csv(csv_file_path)\n",
        "\n",
        "# Calculate the proportion of crashes with total vehicle count as 1\n",
        "single_vehicle_count = (df['Vehicle Coded Seq#'].groupby(df['Crash ID']).nunique() == 1).sum()\n",
        "total_crashes = df['Crash ID'].nunique()\n",
        "\n",
        "# Assertion: Majority of crashes have total number of vehicles involved as 1\n",
        "assert single_vehicle_count > (total_crashes / 2), f\"Majority of crashes do not have total number of vehicles involved as 1 in {csv_file_path}\"\n"
      ],
      "metadata": {
        "colab": {
          "base_uri": "https://localhost:8080/",
          "height": 193
        },
        "id": "ih0e8YsBA93J",
        "outputId": "db8772df-d8c2-409c-ba26-4096b9e623e5"
      },
      "execution_count": null,
      "outputs": [
        {
          "output_type": "error",
          "ename": "AssertionError",
          "evalue": "Majority of crashes do not have total number of vehicles involved as 1 in Hwy26Crashes2019_S23.csv",
          "traceback": [
            "\u001b[0;31m---------------------------------------------------------------------------\u001b[0m",
            "\u001b[0;31mAssertionError\u001b[0m                            Traceback (most recent call last)",
            "\u001b[0;32m<ipython-input-79-f34f2968a1f9>\u001b[0m in \u001b[0;36m<cell line: 14>\u001b[0;34m()\u001b[0m\n\u001b[1;32m     12\u001b[0m \u001b[0;34m\u001b[0m\u001b[0m\n\u001b[1;32m     13\u001b[0m \u001b[0;31m# Assertion: Majority of crashes have total number of vehicles involved as 1\u001b[0m\u001b[0;34m\u001b[0m\u001b[0;34m\u001b[0m\u001b[0m\n\u001b[0;32m---> 14\u001b[0;31m \u001b[0;32massert\u001b[0m \u001b[0msingle_vehicle_count\u001b[0m \u001b[0;34m>\u001b[0m \u001b[0;34m(\u001b[0m\u001b[0mtotal_crashes\u001b[0m \u001b[0;34m/\u001b[0m \u001b[0;36m2\u001b[0m\u001b[0;34m)\u001b[0m\u001b[0;34m,\u001b[0m \u001b[0;34mf\"Majority of crashes do not have total number of vehicles involved as 1 in {csv_file_path}\"\u001b[0m\u001b[0;34m\u001b[0m\u001b[0;34m\u001b[0m\u001b[0m\n\u001b[0m",
            "\u001b[0;31mAssertionError\u001b[0m: Majority of crashes do not have total number of vehicles involved as 1 in Hwy26Crashes2019_S23.csv"
          ]
        }
      ]
    },
    {
      "cell_type": "markdown",
      "source": [
        "Resolving above violation"
      ],
      "metadata": {
        "id": "Lj76g2aMxT85"
      }
    },
    {
      "cell_type": "code",
      "source": [
        "import pandas as pd\n",
        "\n",
        "# Path to the CSV file\n",
        "csv_file_path = 'Hwy26Crashes2019_S23.csv'\n",
        "\n",
        "# Read the CSV file into a DataFrame\n",
        "df = pd.read_csv(csv_file_path)\n",
        "\n",
        "# Calculate the proportion of crashes with total vehicle count as 1\n",
        "single_vehicle_count = (df['Vehicle Coded Seq#'].groupby(df['Crash ID']).nunique() == 1).sum()\n",
        "total_crashes = df['Crash ID'].nunique()\n",
        "\n",
        "# Assertion: Majority of crashes have total number of vehicles involved as 1\n",
        "assert single_vehicle_count > (total_crashes / 2), f\"Majority of crashes do not have total number of vehicles involved as 1 in {csv_file_path}\"\n",
        "print('Assertion is successfull')"
      ],
      "metadata": {
        "colab": {
          "base_uri": "https://localhost:8080/"
        },
        "id": "90wX5PCSxNxk",
        "outputId": "4a8830a5-348c-4225-a221-43433e0e3822"
      },
      "execution_count": null,
      "outputs": [
        {
          "output_type": "stream",
          "name": "stdout",
          "text": [
            "Assertion is successfull\n"
          ]
        }
      ]
    }
  ]
}