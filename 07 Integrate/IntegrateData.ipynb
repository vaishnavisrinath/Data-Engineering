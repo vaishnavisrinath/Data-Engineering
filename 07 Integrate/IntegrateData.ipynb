{
  "nbformat": 4,
  "nbformat_minor": 0,
  "metadata": {
    "colab": {
      "provenance": []
    },
    "kernelspec": {
      "name": "python3",
      "display_name": "Python 3"
    },
    "language_info": {
      "name": "python"
    }
  },
  "cells": [
    {
      "cell_type": "code",
      "execution_count": 1,
      "metadata": {
        "colab": {
          "base_uri": "https://localhost:8080/"
        },
        "id": "d5onUrDTGEuj",
        "outputId": "f88a9d31-930c-44ee-bf71-21f8551f88ba"
      },
      "outputs": [
        {
          "output_type": "stream",
          "name": "stdout",
          "text": [
            "              county     State Population  PerCapitaIncome    Poverty    ID\n",
            "0     Loudoun County  Virginia     374558     50391.015625   3.884375  1760\n",
            "1  Washington County    Oregon     572071     34970.817308  10.446154  3047\n",
            "2      Harlan County  Kentucky      27548     16010.363636  33.318182  1235\n",
            "3     Malheur County    Oregon      30421     17966.428571  24.414286  1823\n"
          ]
        }
      ],
      "source": [
        "import pandas as pd\n",
        "\n",
        "acs_data = pd.read_csv(r\"acs2017_census_tract_data.csv\")\n",
        "\n",
        "# Filter and select the required columns from the ACS data\n",
        "selected_columns = ['County', 'State', 'TotalPop', 'IncomePerCap', 'Poverty']\n",
        "acs_filtered = acs_data[selected_columns].copy()\n",
        "\n",
        "# Create a new column 'ID' as a unique identifier for each row\n",
        "acs_filtered['ID'] = range(len(acs_filtered))\n",
        "\n",
        "# Group the data by 'County' and 'State' and aggregate the values using aggregation functions\n",
        "aggregated_acs = acs_filtered.groupby(['County', 'State']).agg({\n",
        "    'TotalPop': 'sum',\n",
        "    'IncomePerCap': 'mean',\n",
        "    'Poverty': 'mean'\n",
        "})\n",
        "\n",
        "# Reset the index of the aggregated DataFrame\n",
        "county_info = aggregated_acs.reset_index()\n",
        "\n",
        "# Rename the columns to match the desired column names\n",
        "county_info.rename(columns={\n",
        "    'County': 'county',\n",
        "    'TotalPop': 'Population',\n",
        "    'IncomePerCap': 'PerCapitaIncome'\n",
        "}, inplace=True)\n",
        "\n",
        "# Reset the 'ID' column to start from 1\n",
        "county_info['ID'] = county_info.index + 1\n",
        "\n",
        "\n",
        "county_inputs = [\n",
        "    \"Loudoun County, Virginia\",\n",
        "    \"Washington County, Oregon\",\n",
        "    \"Harlan County, Kentucky\",\n",
        "    \"Malheur County, Oregon\"\n",
        "]\n",
        "\n",
        "\n",
        "selected_counties = pd.DataFrame(columns=county_info.columns)\n",
        "\n",
        "# Iterate over the list of county inputs and extract the corresponding details\n",
        "for county_input in county_inputs:\n",
        "    county_name, state_name = county_input.split(\", \")\n",
        "    county_details = county_info[(county_info['county'] == county_name) & (county_info['State'] == state_name)]\n",
        "    selected_counties = pd.concat([selected_counties, county_details], ignore_index=True)\n",
        "\n",
        "print(selected_counties)\n"
      ]
    },
    {
      "cell_type": "code",
      "source": [
        "import pandas as pd\n",
        "\n",
        "# Load the COVID-19 data from a CSV file\n",
        "covid_df = pd.read_csv(r\"COVID_county_data.csv\")\n",
        "\n",
        "# Create a unique identifier for each county-state combination\n",
        "covid_df['ID'] = covid_df['county'] + '_' + covid_df['state']\n",
        "covid_df['ID'] = pd.factorize(covid_df['ID'])[0] + 1\n",
        "\n",
        "# Convert the 'date' column to datetime format\n",
        "covid_df['date'] = pd.to_datetime(covid_df['date'], format='%Y-%m-%d')\n",
        "\n",
        "# Extract the month from the 'date' column\n",
        "covid_df['month'] = covid_df['date'].dt.to_period('M')\n",
        "\n",
        "# Group the data by 'ID' and 'month' and aggregate the values\n",
        "covid_monthly = covid_df.groupby(['ID', 'month']).agg({\n",
        "    'cases': 'sum',\n",
        "    'deaths': 'sum',\n",
        "    'county': 'first'\n",
        "}).reset_index()\n",
        "\n",
        "# Reset the 'ID' column to start from 1 for the monthly data\n",
        "covid_monthly['ID'] = range(1, len(covid_monthly) + 1)\n",
        "covid_monthly = covid_monthly[['ID', 'month', 'cases', 'deaths', 'county']].copy()\n",
        "\n",
        "# Rename columns to match desired format\n",
        "covid_monthly.columns = ['ID', 'Month', 'Cases', 'Deaths', 'County']\n",
        "\n",
        "# Specify the months and county for the report\n",
        "selected_months = ['2020-08', '2021-01', '2021-02']\n",
        "selected_county_name = 'Malheur'\n",
        "\n",
        "# Filter the monthly data for the selected county and months\n",
        "covid_report_df = covid_monthly[\n",
        "    (covid_monthly['County'] == selected_county_name) &\n",
        "    (covid_monthly['Month'].astype(str).isin(selected_months))\n",
        "]\n",
        "\n",
        "print(covid_report_df)\n",
        "\n",
        "# Summarize total cases and deaths by 'ID'\n",
        "covid_summary_df = covid_monthly.groupby(\"ID\").agg({\n",
        "    \"Cases\": \"sum\",\n",
        "    \"Deaths\": \"sum\"\n",
        "}).reset_index()\n",
        "\n",
        "# Rename columns for clarity\n",
        "covid_summary_df.rename(columns={\"Cases\": \"TotalCases\", \"Deaths\": \"TotalDeaths\"}, inplace=True)\n",
        "\n",
        "# Merge the summary with county information\n",
        "covid_summary_df = pd.merge(covid_summary_df, county_info, how=\"left\", on=\"ID\")\n",
        "\n",
        "# Calculate cases and deaths per 100,000 population\n",
        "def getTotalCasesPer100K(row):\n",
        "    total_population = row['Population'] / 100000\n",
        "    if pd.notnull(total_population) and total_population > 0:\n",
        "        return row['TotalCases'] / total_population\n",
        "    return 0\n",
        "\n",
        "def getTotalDeathsPer100K(row):\n",
        "    total_population = row['Population'] / 100000\n",
        "    if pd.notnull(total_population) and total_population > 0:\n",
        "        return row['TotalDeaths'] / total_population\n",
        "    return 0\n",
        "\n",
        "covid_summary_df['TotalCasesPer100K'] = covid_summary_df.apply(getTotalCasesPer100K, axis=1)\n",
        "covid_summary_df['TotalDeathsPer100K'] = covid_summary_df.apply(getTotalDeathsPer100K, axis=1)\n",
        "\n",
        "# List of counties and states to filter\n",
        "county_state_list = [\n",
        "    ('Washington County', 'Oregon'),\n",
        "    ('Malheur County', 'Oregon'),\n",
        "    ('Loudoun County', 'Virginia'),\n",
        "    ('Harlan County', 'Kentucky')\n",
        "]\n",
        "\n",
        "# Filter the summary DataFrame based on the specified counties\n",
        "filtered_covid_df = covid_summary_df[\n",
        "    (covid_summary_df['county'].isin([county[0] for county in county_state_list])) &\n",
        "    (covid_summary_df['State'].isin([county[1] for county in county_state_list]))\n",
        "]\n",
        "\n",
        "# Extract the 'Poverty' and 'TotalCasesPer100K' values for the specified counties\n",
        "poverty_percentage = filtered_covid_df[['county', 'State', 'Poverty']]\n",
        "cases_per_100k_data = filtered_covid_df[['county', 'State', 'TotalCasesPer100K']]\n",
        "\n",
        "# Print the results\n",
        "print(\"Poverty Percentage:\")\n",
        "print(poverty_percentage)\n",
        "print(\"\\nTotal Cases per 100K:\")\n",
        "print(cases_per_100k_data)\n"
      ],
      "metadata": {
        "colab": {
          "base_uri": "https://localhost:8080/"
        },
        "id": "sbQu9HIdQ2xY",
        "outputId": "3ab6b23b-d3b6-4e84-d658-a1162c52beb6"
      },
      "execution_count": 15,
      "outputs": [
        {
          "output_type": "stream",
          "name": "stdout",
          "text": [
            "          ID    Month  Cases  Deaths   County\n",
            "25593  25594  2020-08  28163   459.0  Malheur\n",
            "25598  25599  2021-01  96297  1627.0  Malheur\n",
            "25599  25600  2021-02  65951  1137.0  Malheur\n",
            "Poverty Percentage:\n",
            "                 county     State    Poverty\n",
            "1234      Harlan County  Kentucky  33.318182\n",
            "1759     Loudoun County  Virginia   3.884375\n",
            "1822     Malheur County    Oregon  24.414286\n",
            "3035  Washington County  Kentucky  16.900000\n",
            "3046  Washington County    Oregon  10.446154\n",
            "3053  Washington County  Virginia  14.715385\n",
            "\n",
            "Total Cases per 100K:\n",
            "                 county     State  TotalCasesPer100K\n",
            "1234      Harlan County  Kentucky      747727.60273\n",
            "1759     Loudoun County  Virginia       666505.58792\n",
            "1822     Malheur County    Oregon       1.491187e+06\n",
            "3035  Washington County  Kentucky       1.788649e+05\n",
            "3046  Washington County    Oregon       377110.358679\n",
            "3053  Washington County  Virginia       5.508934e+01\n"
          ]
        }
      ]
    },
    {
      "cell_type": "code",
      "source": [
        "import pandas as pd\n",
        "\n",
        "# Filter the summary DataFrame for Oregon state\n",
        "oregon_counties_df = covid_summary_df[covid_summary_df['State'] == 'Oregon']\n",
        "# COVID total cases vs. % population in poverty\n",
        "total_cases_vs_poverty_corr = oregon_counties_df['TotalCases'].corr(oregon_counties_df['Poverty'])\n",
        "print(total_cases_vs_poverty_corr)\n",
        "\n",
        "# COVID total deaths vs. % population in poverty\n",
        "total_deaths_vs_poverty_corr = oregon_counties_df['TotalDeaths'].corr(oregon_counties_df['Poverty'])\n",
        "print(total_deaths_vs_poverty_corr)\n",
        "\n",
        "# COVID total cases vs. Per Capita Income level\n",
        "total_cases_vs_income_corr = oregon_counties_df['TotalCases'].corr(oregon_counties_df['PerCapitaIncome'])\n",
        "print(total_cases_vs_income_corr)\n",
        "\n",
        "# COVID total deaths vs. Per Capita Income level\n",
        "total_deaths_vs_income_corr = oregon_counties_df['TotalDeaths'].corr(oregon_counties_df['PerCapitaIncome'])\n",
        "print(total_deaths_vs_income_corr)\n",
        "\n",
        "# Overall analysis for all counties\n",
        "# COVID total cases vs. % population in poverty\n",
        "overall_cases_vs_poverty_corr = covid_summary_df['TotalCases'].corr(covid_summary_df['Poverty'])\n",
        "print(overall_cases_vs_poverty_corr)\n",
        "\n",
        "# COVID total deaths vs. % population in poverty\n",
        "overall_deaths_vs_poverty_corr = covid_summary_df['TotalDeaths'].corr(covid_summary_df['Poverty'])\n",
        "print(overall_deaths_vs_poverty_corr)\n",
        "\n",
        "# COVID total cases vs. Per Capita Income level\n",
        "overall_cases_vs_income_corr = covid_summary_df['TotalCases'].corr(covid_summary_df['PerCapitaIncome'])\n",
        "print(overall_cases_vs_income_corr)\n",
        "\n",
        "# COVID total deaths vs. Per Capita Income level\n",
        "overall_deaths_vs_income_corr = covid_summary_df['TotalDeaths'].corr(covid_summary_df['PerCapitaIncome'])\n",
        "print(overall_deaths_vs_income_corr)\n"
      ],
      "metadata": {
        "colab": {
          "base_uri": "https://localhost:8080/"
        },
        "id": "WV4zZB4-J_y7",
        "outputId": "611ec1c7-88c8-44f3-a752-579c80d67661"
      },
      "execution_count": 6,
      "outputs": [
        {
          "output_type": "stream",
          "name": "stdout",
          "text": [
            "0.05448687198634776\n",
            "-0.003927649458842\n",
            "-0.2557187510018219\n",
            "-0.2878717772723963\n",
            "0.02172395775348989\n",
            "0.00988447825942164\n",
            "-0.02544712849260708\n",
            "-0.01255471625709621\n"
          ]
        }
      ]
    },
    {
      "cell_type": "code",
      "source": [
        "# Overall analysis for all counties\n",
        "# COVID total cases vs. % population in poverty (All counties)\n",
        "overall_cases_vs_poverty_corr = covid_summary_df['TotalCases'].corr(covid_summary_df['Poverty'])\n",
        "print(\"All Counties - Total Cases and Poverty Correlation:\", overall_cases_vs_poverty_corr)\n",
        "\n",
        "# COVID total deaths vs. % population in poverty (All counties)\n",
        "overall_deaths_vs_poverty_corr = covid_summary_df['TotalDeaths'].corr(covid_summary_df['Poverty'])\n",
        "print(\"All Counties - Total Deaths and Poverty Correlation:\", overall_deaths_vs_poverty_corr)\n",
        "\n",
        "# COVID total cases vs. Per Capita Income level (All counties)\n",
        "overall_cases_vs_income_corr = covid_summary_df['TotalCases'].corr(covid_summary_df['PerCapitaIncome'])\n",
        "print(\"All Counties - Total Cases and Per Capita Income Correlation:\", overall_cases_vs_income_corr)\n",
        "\n",
        "# COVID total deaths vs. Per Capita Income level (All counties)\n",
        "overall_deaths_vs_income_corr = covid_summary_df['TotalDeaths'].corr(covid_summary_df['PerCapitaIncome'])\n",
        "print(\"All Counties - Total Deaths and Per Capita Income Correlation:\", overall_deaths_vs_income_corr)"
      ],
      "metadata": {
        "colab": {
          "base_uri": "https://localhost:8080/"
        },
        "id": "r94-B5BPL3sj",
        "outputId": "413db9cc-0b92-4091-d0c4-794d309d3b06"
      },
      "execution_count": 7,
      "outputs": [
        {
          "output_type": "stream",
          "name": "stdout",
          "text": [
            "All Counties - Total Cases and Poverty Correlation: 0.02172395775348989\n",
            "All Counties - Total Deaths and Poverty Correlation: 0.00988447825942164\n",
            "All Counties - Total Cases and Per Capita Income Correlation: -0.02544712849260708\n",
            "All Counties - Total Deaths and Per Capita Income Correlation: -0.01255471625709621\n"
          ]
        }
      ]
    },
    {
      "cell_type": "code",
      "source": [
        "import pandas as pd\n",
        "\n",
        "# Filter the summary DataFrame for Oregon state\n",
        "oregon_counties_df = covid_summary_df[covid_summary_df['State'] == 'Oregon']\n",
        "\n",
        "# For Oregon Counties only: correlation between % poverty and COVID cases\n",
        "oregon_poverty_cases_corr = oregon_counties_df['Poverty'].corr(oregon_counties_df['TotalCases'])\n",
        "print(\"Oregon Counties - % Poverty and COVID Cases Correlation:\", oregon_poverty_cases_corr)\n",
        "\n",
        "# For all counties: correlation between population and COVID cases\n",
        "population_cases_corr = covid_summary_df['Population'].corr(covid_summary_df['TotalCases'])\n",
        "print(\"All Counties - Population and COVID Cases Correlation:\", population_cases_corr)\n",
        "\n",
        "\n",
        "# For Oregon counties only: correlation between Per Capita Income and COVID deaths\n",
        "oregon_income_deaths_corr = oregon_counties_df['PerCapitaIncome'].corr(oregon_counties_df['TotalDeaths'])\n",
        "print(\"Oregon Counties - Per Capita Income and COVID Deaths Correlation:\", oregon_income_deaths_corr)\n",
        "\n",
        "# For all USA counties: correlation between Per Capita Income and COVID cases\n",
        "income_cases_corr = covid_summary_df['PerCapitaIncome'].corr(covid_summary_df['TotalCases'])\n",
        "print(\"All USA Counties - Per Capita Income and COVID Cases Correlation:\", income_cases_corr)\n",
        "\n",
        "# For all counties: Correlation between Total Population and COVID deaths\n",
        "population_deaths_corr = covid_summary_df['Population'].corr(covid_summary_df['TotalDeaths'])\n",
        "print(\"All Counties - Population and COVID Deaths Correlation:\", population_deaths_corr)"
      ],
      "metadata": {
        "colab": {
          "base_uri": "https://localhost:8080/"
        },
        "id": "CTy2r5emMRHn",
        "outputId": "3e33ea6f-0c78-4a36-f352-f72e2b566ac9"
      },
      "execution_count": 9,
      "outputs": [
        {
          "output_type": "stream",
          "name": "stdout",
          "text": [
            "Oregon Counties - % Poverty and COVID Cases Correlation: 0.05448687198634775\n",
            "All Counties - Population and COVID Cases Correlation: -0.008609434554935935\n",
            "Oregon Counties - Per Capita Income and COVID Deaths Correlation: -0.2878717772723963\n",
            "All USA Counties - Per Capita Income and COVID Cases Correlation: -0.02544712849260708\n",
            "All Counties - Population and COVID Deaths Correlation: -0.0018662678699585796\n"
          ]
        }
      ]
    },
    {
      "cell_type": "code",
      "source": [
        "import pandas as pd\n",
        "import seaborn as sns\n",
        "import matplotlib.pyplot as plt\n",
        "\n",
        "# Select only numeric columns for correlation matrix\n",
        "numeric_df = covid_summary_df.select_dtypes(include=[float, int])\n",
        "\n",
        "# Calculate correlation matrix\n",
        "correlation_matrix = numeric_df.corr()\n",
        "\n",
        "# Filter correlations greater than 0.5 or less than -0.5\n",
        "strong_correlations = correlation_matrix[(correlation_matrix > 0.5) | (correlation_matrix < -0.5)]\n",
        "\n",
        "# Remove self-correlations\n",
        "strong_correlations = strong_correlations[strong_correlations != 1.0]\n",
        "\n",
        "# Flatten the matrix and drop NaN values\n",
        "strong_correlations = strong_correlations.stack().reset_index()\n",
        "strong_correlations.columns = ['Variable1', 'Variable2', 'Correlation']\n",
        "strong_correlations = strong_correlations.dropna()\n",
        "\n",
        "# Plot scatter plot for the first strong correlation found\n",
        "plotted = False\n",
        "for index, row in strong_correlations.iterrows():\n",
        "    var1 = row['Variable1']\n",
        "    var2 = row['Variable2']\n",
        "    correlation = row['Correlation']\n",
        "\n",
        "    if abs(correlation) > 0.5:\n",
        "        plt.figure(figsize=(8, 6))\n",
        "        sns.scatterplot(data=covid_summary_df, x=var1, y=var2)\n",
        "        plt.title(f'Scatter plot between {var1} and {var2}\\nCorrelation: {correlation:.2f}')\n",
        "        plt.xlabel(var1)\n",
        "        plt.ylabel(var2)\n",
        "        plt.show()\n",
        "        plotted = True\n",
        "        break\n",
        "\n",
        "if not plotted:\n",
        "    print(\"No strong correlations found with |R| > 0.5.\")\n"
      ],
      "metadata": {
        "colab": {
          "base_uri": "https://localhost:8080/",
          "height": 585
        },
        "id": "pwUR6In2Owj5",
        "outputId": "41e43826-934c-4eb6-f096-c9b3148d4ed7"
      },
      "execution_count": 12,
      "outputs": [
        {
          "output_type": "display_data",
          "data": {
            "text/plain": [
              "<Figure size 800x600 with 1 Axes>"
            ],
            "image/png": "[encoded data removed]"
          },
          "metadata": {}
        }
      ]
    }
  ]
}