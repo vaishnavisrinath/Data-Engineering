{
  "nbformat": 4,
  "nbformat_minor": 0,
  "metadata": {
    "colab": {
      "provenance": []
    },
    "kernelspec": {
      "name": "python3",
      "display_name": "Python 3"
    },
    "language_info": {
      "name": "python"
    }
  },
  "cells": [
    {
      "cell_type": "code",
      "source": [
        "import requests\n",
        "import json\n",
        "from datetime import datetime, timedelta\n",
        "\n",
        "API_KEY = '7bd190799f5f77d6cd797f5eb87e75cf'\n",
        "\n",
        "BASE_URL = 'http://api.openweathermap.org/data/2.5/weather?'\n",
        "\n",
        "# city name and state from user\n",
        "city_name = input(\"Enter city name: \")\n",
        "state_name = input(\"Enter state name: \")\n",
        "\n",
        "#current weather\n",
        "current_weather_url = BASE_URL + f'q={city_name},{state_name}&appid={API_KEY}'\n",
        "response = requests.get(current_weather_url)\n",
        "data = response.json()\n",
        "is_raining = any(weather['main'] == 'Rain' for weather in data['weather'])\n",
        "\n",
        "#after 5 days\n",
        "class_meeting_time_in_utc = datetime.utcnow() + timedelta(days=5)  # Assuming class meets after 5 days. We can change number of days here as required.\n",
        "forecast_url = BASE_URL + f'q={city_name},{state_name}&appid={API_KEY}&dt={int(class_meeting_time_in_utc.timestamp())}'\n",
        "response_forecast = requests.get(forecast_url)\n",
        "forecast = response_forecast.json()\n",
        "will_be_raining = any(weather['main'] == 'Rain' for weather in forecast['weather'])\n",
        "\n",
        "# Print the answers\n",
        "print(f\"Is it raining in {city_name}, {state_name}? {'Yes' if is_raining else 'No'}\")\n",
        "print(f\"Will it be raining when our class next meets? {'Yes' if will_be_raining else 'No'}\")\n"
      ],
      "metadata": {
        "colab": {
          "base_uri": "https://localhost:8080/"
        },
        "id": "hPWc9-7ATeeJ",
        "outputId": "a6649fc9-844e-4d6b-bb4b-4f754d6e7024"
      },
      "execution_count": 16,
      "outputs": [
        {
          "output_type": "stream",
          "name": "stdout",
          "text": [
            "Enter city name: Portland\n",
            "Enter state name: Oregon\n",
            "Is it raining in Portland, Oregon? No\n",
            "Will it be raining when our class next meets? No\n"
          ]
        }
      ]
    }
  ]
}